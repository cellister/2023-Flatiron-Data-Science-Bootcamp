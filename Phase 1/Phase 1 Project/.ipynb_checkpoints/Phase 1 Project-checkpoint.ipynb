{
 "cells": [
  {
   "cell_type": "markdown",
   "metadata": {},
   "source": [
    "# Introduction\n",
    "\n",
    "## Problem Statement\n",
    "\n",
    "A company is expanding into new industries to diversify its portfolio. Specifically, they are interested in purchasing and operating airplanes for commercial and private enterprises, but do not know anything about the potential risks of aircrafts. I will be determining which aircrafts are the lowest risk for the company to start this new business endeavor.\n",
    "\n",
    "I will translate my findings into actionable insights that the head of the new aviation division can use to help decide which aircrafts to purchase.\n",
    "\n",
    "## My Approach\n",
    "\n",
    "I will determine which aircrafts have the lowest risk for a company to begin a new business endeavor. To do this, I will start by investigating data on various makes and models of airplanes and their fatality counts to understand a percentage rate of plane model linked to fatality in plane crashes.\n",
    "Next, using that percentage rate and logistical regression models, I’ll explore relationships to plane damage and level of injury in plane investigations to describe a risk.\n",
    "I’ll seek to answer the following questions:\n",
    "1.\tWhich plane model has the lowest rate of fatality? (What plane is a safe choice to limit risk of fatality?) \n",
    "2.\tDuring investigation, which model was found to sustain the least amount of aircraft damage? (Which plane model is the most durable?)\n",
    "3.\tWhat level of injury was found in investigations relating to different plane models? (What plane is a safe choice to limit liability for bodily injuries?)\n",
    "4. FAA regulation liability? Safe Harbor?\n",
    "Finally, I will explore two particular aspects of safety:\n",
    "1.\tA rank of the number of accidents by month and weather.  Knowing which time of year are accidents more likely to happen as a result of weather, can advise the company on heavy or light scheduling of flights.\n",
    "2.\tA look at how the aircraft model correlates to place of accident or incident (broad phase of flight). This could advise which parts of the plane need to be meticulously monitored for performance before and during each flight to prevent investigations.\n",
    "\n",
    "## Data Sources\n",
    "\n",
    "Data for this project was obtained from the following repository and also saved in ZippedData folder in this repositpory. \n",
    "\n",
    "The data comes from Kaggle, Aviation Accident Database & Synopses, up to 2023. \n",
    "\n",
    "## Methodology\n",
    "\n",
    "The process can be divided into two stages:\n",
    "\n",
    "A. Data preparation\n",
    "    1. Importing libraries\n",
    "    2. Reading and cleaning provided data\n",
    "    3. Dealing with missing values\n",
    "    4. Joining datasets\n",
    "    5. Scraping additional data and cleaning it\n",
    "\n",
    "B. Visualizations and insights\n",
    "    1. Creating visualizations\n",
    "    2. Drawing conclusions\n",
    "    3. Providing recommendations\n",
    "\n",
    "## Summary\n",
    "\n",
    "This final section includes my findings, key actionable insights, suggested future questions to explore, and any limitations.\n",
    "\n"
   ]
  },
  {
   "cell_type": "markdown",
   "metadata": {},
   "source": [
    "Data Preparation"
   ]
  },
  {
   "cell_type": "code",
   "execution_count": null,
   "metadata": {},
   "outputs": [],
   "source": [
    "#import the necessary packages"
   ]
  },
  {
   "cell_type": "markdown",
   "metadata": {},
   "source": [
    "# Data Provided\n",
    "\n",
    "Data reading\n",
    "\n",
    "The data provided is in the ZippedData folder. "
   ]
  },
  {
   "cell_type": "code",
   "execution_count": null,
   "metadata": {},
   "outputs": [],
   "source": [
    "#read in the csv file"
   ]
  },
  {
   "cell_type": "markdown",
   "metadata": {},
   "source": [
    "I will create a dictionary of DataFrames with the key as the name of the file and the value a Pandas DataFrame. This allows me to preview all of the data by iterating over the dictionary."
   ]
  },
  {
   "cell_type": "code",
   "execution_count": null,
   "metadata": {},
   "outputs": [],
   "source": [
    "#create a dictionary of DataFrames"
   ]
  },
  {
   "cell_type": "code",
   "execution_count": null,
   "metadata": {},
   "outputs": [],
   "source": [
    "#preview the data\n",
    "#make comments on choices"
   ]
  },
  {
   "cell_type": "markdown",
   "metadata": {},
   "source": [
    "My logic\n",
    "\n",
    "We have a lot of data and the first step is to consider which variables best support conclusions that will produce actionable recommendations; these will be the focus of my investigation. Due to time constraints, I will be first consider variables with more complete data.\n",
    "\n",
    "The variable that stands out to me as the independent variable is make and model of various aircrafts. The dependent variables that I think will best inform on safety are 'Fatality', 'Damage to Plane', and level of injury. Correlations found from these data will be crucial in making an informed decision around which aircrafts to purchase because they most directly relate to the loss of human life. \n",
    "\n",
    "However, I will address in my final summary other variables that can impact safety or partially explain the accidents."
   ]
  },
  {
   "cell_type": "markdown",
   "metadata": {},
   "source": [
    "# Data cleaning\n",
    "\n",
    "In this section, I will next the make, model, and fatality columns to make a new DataFrame where a percentage fatality can be calculated that is not biased on the number of samples in this particular data set. "
   ]
  },
  {
   "cell_type": "code",
   "execution_count": null,
   "metadata": {},
   "outputs": [],
   "source": [
    "#check for duplicates\n",
    "#check for null values/missing/placeholder values\n",
    "#check data types, make sure that they are consistent\n",
    "#decide if any rows should be removed\n",
    "#summary info()\n",
    "#calculate the % fatality\n",
    "\n"
   ]
  },
  {
   "cell_type": "markdown",
   "metadata": {},
   "source": [
    "# Visualizations and Insights\n",
    "\n",
    "Do I reference Tableau? How to I include it in jupyter notebook? Do I have the option of matplotlib or seaborn?\n",
    "\n",
    "#narrate graph and variable choices for each visualtization thoughout section.\n",
    "#describe what I'm seeing on each graph and what it means"
   ]
  },
  {
   "cell_type": "markdown",
   "metadata": {},
   "source": [
    "# Conclusion and Future Work\n",
    "\n",
    "## Summary of findings\n",
    "\n",
    "### Fatality\n",
    "\n",
    "### Aircraft Damage\n",
    "\n",
    "### Level of injury\n",
    "\n",
    "## Actionable Insights\n",
    "\n",
    "## Future Work\n",
    "\n",
    "As next steps, I would suggest the following:\n",
    "\n",
    "    1. \n",
    "\n"
   ]
  }
 ],
 "metadata": {
  "kernelspec": {
   "display_name": "Python (learn-env)",
   "language": "python",
   "name": "learn-env"
  },
  "language_info": {
   "codemirror_mode": {
    "name": "ipython",
    "version": 3
   },
   "file_extension": ".py",
   "mimetype": "text/x-python",
   "name": "python",
   "nbconvert_exporter": "python",
   "pygments_lexer": "ipython3",
   "version": "3.8.5"
  }
 },
 "nbformat": 4,
 "nbformat_minor": 4
}
